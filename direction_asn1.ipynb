{
 "cells": [
  {
   "cell_type": "code",
   "execution_count": 6,
   "metadata": {},
   "outputs": [
    {
     "name": "stdout",
     "output_type": "stream",
     "text": [
      "Requirement already satisfied: pillow in c:\\users\\desla\\appdata\\local\\packages\\pythonsoftwarefoundation.python.3.11_qbz5n2kfra8p0\\localcache\\local-packages\\python311\\site-packages (10.1.0)\n",
      "Note: you may need to restart the kernel to use updated packages.\n"
     ]
    },
    {
     "name": "stderr",
     "output_type": "stream",
     "text": [
      "\n",
      "[notice] A new release of pip is available: 23.2.1 -> 23.3\n",
      "[notice] To update, run: python.exe -m pip install --upgrade pip\n"
     ]
    },
    {
     "name": "stdout",
     "output_type": "stream",
     "text": [
      "Collecting requests\n",
      "  Obtaining dependency information for requests from https://files.pythonhosted.org/packages/70/8e/0e2d847013cb52cd35b38c009bb167a1a26b2ce6cd6965bf26b47bc0bf44/requests-2.31.0-py3-none-any.whl.metadata\n",
      "  Downloading requests-2.31.0-py3-none-any.whl.metadata (4.6 kB)\n",
      "Collecting charset-normalizer<4,>=2 (from requests)\n",
      "  Obtaining dependency information for charset-normalizer<4,>=2 from https://files.pythonhosted.org/packages/ef/96/1c7e85db0a1b2f182d47375987e82aacb60c987e3943b11ccce3fc6aebab/charset_normalizer-3.3.1-cp311-cp311-win_amd64.whl.metadata\n",
      "  Downloading charset_normalizer-3.3.1-cp311-cp311-win_amd64.whl.metadata (33 kB)\n",
      "Collecting idna<4,>=2.5 (from requests)\n",
      "  Downloading idna-3.4-py3-none-any.whl (61 kB)\n",
      "     ---------------------------------------- 0.0/61.5 kB ? eta -:--:--\n",
      "     ---------------------------------------  61.4/61.5 kB 1.7 MB/s eta 0:00:01\n",
      "     ---------------------------------------- 61.5/61.5 kB 1.7 MB/s eta 0:00:00\n",
      "Collecting urllib3<3,>=1.21.1 (from requests)\n",
      "  Obtaining dependency information for urllib3<3,>=1.21.1 from https://files.pythonhosted.org/packages/d2/b2/b157855192a68541a91ba7b2bbcb91f1b4faa51f8bae38d8005c034be524/urllib3-2.0.7-py3-none-any.whl.metadata\n",
      "  Downloading urllib3-2.0.7-py3-none-any.whl.metadata (6.6 kB)\n",
      "Collecting certifi>=2017.4.17 (from requests)\n",
      "  Obtaining dependency information for certifi>=2017.4.17 from https://files.pythonhosted.org/packages/4c/dd/2234eab22353ffc7d94e8d13177aaa050113286e93e7b40eae01fbf7c3d9/certifi-2023.7.22-py3-none-any.whl.metadata\n",
      "  Downloading certifi-2023.7.22-py3-none-any.whl.metadata (2.2 kB)\n",
      "Downloading requests-2.31.0-py3-none-any.whl (62 kB)\n",
      "   ---------------------------------------- 0.0/62.6 kB ? eta -:--:--\n",
      "   ---------------------------------------  61.4/62.6 kB 3.4 MB/s eta 0:00:01\n",
      "   ---------------------------------------- 62.6/62.6 kB 1.1 MB/s eta 0:00:00\n",
      "Downloading certifi-2023.7.22-py3-none-any.whl (158 kB)\n",
      "   ---------------------------------------- 0.0/158.3 kB ? eta -:--:--\n",
      "   ----------------------- ---------------- 92.2/158.3 kB 2.6 MB/s eta 0:00:01\n",
      "   ---------------------------------------- 158.3/158.3 kB 2.4 MB/s eta 0:00:00\n",
      "Downloading charset_normalizer-3.3.1-cp311-cp311-win_amd64.whl (98 kB)\n",
      "   ---------------------------------------- 0.0/98.3 kB ? eta -:--:--\n",
      "   ---------------------------------------- 98.3/98.3 kB 2.8 MB/s eta 0:00:00\n",
      "Downloading urllib3-2.0.7-py3-none-any.whl (124 kB)\n",
      "   ---------------------------------------- 0.0/124.2 kB ? eta -:--:--\n",
      "   ------------- -------------------------- 41.0/124.2 kB ? eta -:--:--\n",
      "   ---------------------------------------- 124.2/124.2 kB 3.6 MB/s eta 0:00:00\n",
      "Installing collected packages: urllib3, idna, charset-normalizer, certifi, requests\n",
      "Successfully installed certifi-2023.7.22 charset-normalizer-3.3.1 idna-3.4 requests-2.31.0 urllib3-2.0.7\n",
      "Note: you may need to restart the kernel to use updated packages.\n"
     ]
    },
    {
     "name": "stderr",
     "output_type": "stream",
     "text": [
      "\n",
      "[notice] A new release of pip is available: 23.2.1 -> 23.3\n",
      "[notice] To update, run: python.exe -m pip install --upgrade pip\n"
     ]
    }
   ],
   "source": [
    "import pandas as pd\n",
    "%pip install pillow\n",
    "%pip install requests"
   ]
  },
  {
   "cell_type": "code",
   "execution_count": 5,
   "metadata": {},
   "outputs": [
    {
     "data": {
      "text/html": [
       "<div>\n",
       "<style scoped>\n",
       "    .dataframe tbody tr th:only-of-type {\n",
       "        vertical-align: middle;\n",
       "    }\n",
       "\n",
       "    .dataframe tbody tr th {\n",
       "        vertical-align: top;\n",
       "    }\n",
       "\n",
       "    .dataframe thead th {\n",
       "        text-align: right;\n",
       "    }\n",
       "</style>\n",
       "<table border=\"1\" class=\"dataframe\">\n",
       "  <thead>\n",
       "    <tr style=\"text-align: right;\">\n",
       "      <th></th>\n",
       "      <th>name</th>\n",
       "      <th>main_category</th>\n",
       "      <th>sub_category</th>\n",
       "      <th>image</th>\n",
       "      <th>link</th>\n",
       "      <th>ratings</th>\n",
       "      <th>no_of_ratings</th>\n",
       "      <th>discount_price</th>\n",
       "      <th>actual_price</th>\n",
       "    </tr>\n",
       "  </thead>\n",
       "  <tbody>\n",
       "    <tr>\n",
       "      <th>0</th>\n",
       "      <td>Protoner 16Kg PVC Combo Home Gym Package</td>\n",
       "      <td>sports &amp; fitness</td>\n",
       "      <td>Strength Training</td>\n",
       "      <td>https://m.media-amazon.com/images/I/71K-gcsnOY...</td>\n",
       "      <td>https://www.amazon.in/Protoner-16Kg-PVC-Combo-...</td>\n",
       "      <td>3.6</td>\n",
       "      <td>917</td>\n",
       "      <td>₹965.08</td>\n",
       "      <td>₹4,999</td>\n",
       "    </tr>\n",
       "    <tr>\n",
       "      <th>1</th>\n",
       "      <td>Unisex Hexagon Rubber Vinyl Fixed Dumbbell - P...</td>\n",
       "      <td>sports &amp; fitness</td>\n",
       "      <td>Strength Training</td>\n",
       "      <td>https://m.media-amazon.com/images/I/71pcrSXprs...</td>\n",
       "      <td>https://www.amazon.in/Generic-Vinyl-Coated-Iro...</td>\n",
       "      <td>4.4</td>\n",
       "      <td>367</td>\n",
       "      <td>₹389</td>\n",
       "      <td>₹6,450</td>\n",
       "    </tr>\n",
       "    <tr>\n",
       "      <th>2</th>\n",
       "      <td>LAFILLETTE 150 lbs Metal Hand Gripper Forearm ...</td>\n",
       "      <td>sports &amp; fitness</td>\n",
       "      <td>Strength Training</td>\n",
       "      <td>https://m.media-amazon.com/images/I/41oTg0XNbF...</td>\n",
       "      <td>https://www.amazon.in/LALA-LIFE-Gripper-Streng...</td>\n",
       "      <td>4.5</td>\n",
       "      <td>381</td>\n",
       "      <td>₹489</td>\n",
       "      <td>₹1,199</td>\n",
       "    </tr>\n",
       "    <tr>\n",
       "      <th>3</th>\n",
       "      <td>Aurion Genuine Leather Pro Weight Lifting Belt...</td>\n",
       "      <td>sports &amp; fitness</td>\n",
       "      <td>Strength Training</td>\n",
       "      <td>https://m.media-amazon.com/images/I/813g2hRYuo...</td>\n",
       "      <td>https://www.amazon.in/Genuine-Comfortable-Adju...</td>\n",
       "      <td>4.4</td>\n",
       "      <td>446</td>\n",
       "      <td>₹799</td>\n",
       "      <td>₹899</td>\n",
       "    </tr>\n",
       "    <tr>\n",
       "      <th>4</th>\n",
       "      <td>SPIRO PVC (Round/Hex) Dumbbells (1 Kg. X 2 = 2...</td>\n",
       "      <td>sports &amp; fitness</td>\n",
       "      <td>Strength Training</td>\n",
       "      <td>https://m.media-amazon.com/images/I/61VcW8otph...</td>\n",
       "      <td>https://www.amazon.in/Dumbbells-Equipment-Fitn...</td>\n",
       "      <td>3.5</td>\n",
       "      <td>52</td>\n",
       "      <td>₹82.31</td>\n",
       "      <td>₹200</td>\n",
       "    </tr>\n",
       "  </tbody>\n",
       "</table>\n",
       "</div>"
      ],
      "text/plain": [
       "                                                name     main_category  \\\n",
       "0           Protoner 16Kg PVC Combo Home Gym Package  sports & fitness   \n",
       "1  Unisex Hexagon Rubber Vinyl Fixed Dumbbell - P...  sports & fitness   \n",
       "2  LAFILLETTE 150 lbs Metal Hand Gripper Forearm ...  sports & fitness   \n",
       "3  Aurion Genuine Leather Pro Weight Lifting Belt...  sports & fitness   \n",
       "4  SPIRO PVC (Round/Hex) Dumbbells (1 Kg. X 2 = 2...  sports & fitness   \n",
       "\n",
       "        sub_category                                              image  \\\n",
       "0  Strength Training  https://m.media-amazon.com/images/I/71K-gcsnOY...   \n",
       "1  Strength Training  https://m.media-amazon.com/images/I/71pcrSXprs...   \n",
       "2  Strength Training  https://m.media-amazon.com/images/I/41oTg0XNbF...   \n",
       "3  Strength Training  https://m.media-amazon.com/images/I/813g2hRYuo...   \n",
       "4  Strength Training  https://m.media-amazon.com/images/I/61VcW8otph...   \n",
       "\n",
       "                                                link ratings no_of_ratings  \\\n",
       "0  https://www.amazon.in/Protoner-16Kg-PVC-Combo-...     3.6           917   \n",
       "1  https://www.amazon.in/Generic-Vinyl-Coated-Iro...     4.4           367   \n",
       "2  https://www.amazon.in/LALA-LIFE-Gripper-Streng...     4.5           381   \n",
       "3  https://www.amazon.in/Genuine-Comfortable-Adju...     4.4           446   \n",
       "4  https://www.amazon.in/Dumbbells-Equipment-Fitn...     3.5            52   \n",
       "\n",
       "  discount_price actual_price  \n",
       "0        ₹965.08       ₹4,999  \n",
       "1           ₹389       ₹6,450  \n",
       "2           ₹489       ₹1,199  \n",
       "3           ₹799         ₹899  \n",
       "4         ₹82.31         ₹200  "
      ]
     },
     "execution_count": 5,
     "metadata": {},
     "output_type": "execute_result"
    }
   ],
   "source": [
    "df = pd.read_csv(\"Strength Training.csv\")\n",
    "df.head()"
   ]
  },
  {
   "cell_type": "code",
   "execution_count": null,
   "metadata": {},
   "outputs": [],
   "source": []
  },
  {
   "cell_type": "markdown",
   "metadata": {},
   "source": [
    "# Assignment 1 - Store Inventory \n",
    "\n",
    "For this assignment you want to build an inventory, such as you might find at a store. There are two key objects that you'll need here (though you may do more if you want/need):\n",
    "\n",
    "<b>Products:</b>\n",
    "<ul>\n",
    "<li> Each item should be a product object, containing: </li>\n",
    "    <ul>\n",
    "    <li> A unique id number </li>\n",
    "    <li> A product name </li>\n",
    "    <li> A category </li>\n",
    "    <li> A subcategory </li>\n",
    "    <li> The URL of an image</li>\n",
    "    <li> The URL of the product </li>\n",
    "    <li> A rating (0-5) </li>\n",
    "    <li> The number of reviews that constituted the rating </li>\n",
    "    <li> A regular price </li>\n",
    "    <li> A sale price </li>\n",
    "    </ul>\n",
    "<li> Products should have several methods, not limited to, but including: </li>\n",
    "    <ul>\n",
    "    <li> A __str__ function that prints the product in a nice format, displaying: </li>\n",
    "        <ul>\n",
    "        <li> The product name </li>\n",
    "        <li> The image </li>\n",
    "        <li> The product rating </li>\n",
    "        <li> The product price </li>\n",
    "        </ul>\n",
    "    <li> A method to set the discount price - that can accept either a price or a percentage discount as an argument and calculate a new discount price from the actual price </li>\n",
    "    <li> A method to add a rating to a product </li>\n",
    "    </ul>\n",
    "</ul>\n",
    "\n",
    "<b>Inventory:</b>\n",
    "<ul>\n",
    "<li> Each inventory object should keep track of all the products along with a stock level. </li>\n",
    "<li> The inventory should include methods such as:</li>\n",
    "    <ul>\n",
    "    <li> A method to add a new product to the inventory </li>\n",
    "    <li> A method to remove a product from the inventory </li>\n",
    "    <li> A method to print all the products in a category in a nice format </li>\n",
    "    <li> A method to use the + sign to add two inventories together </li>\n",
    "    <li> A method to get the Top X highest rated products </li>\n",
    "    <li> A method to change the stock levels for any item in that inventory </li>\n",
    "    <li> An overload of the length method, to return the number of items in the inventory </li>\n",
    "    </ul>\n",
    "</ul>\n",
    "\n",
    "## Marks and Key Points\n",
    "\n",
    "There are marks allocated for the following:\n",
    "<ul>\n",
    "<li> <b>20%</b> - Error checking - use try/except blocks to catch errors. Specifically check the image loading (some URLs may not work) and the price cleanup (the data may be unclean). </li>\n",
    "<li> <b>30%</b> - Use of classes and methods - you should have at least the classes constructed with relevant methods. </li>\n",
    "<li> <b>30%</b> - Output - I will test your code with data that is different, but in the exact same format as the sample. Everything you create should be generic enough to handle any data in the same format. </li>\n",
    "    <ul>\n",
    "    <li> At the bottom of your code, please make a section that shows that it works. Load two data files into two inventory objects, display some contents from each, add rating, show the highest rated objects, change a stock level, and add the two inventories together. </li>\n",
    "    <li> In here, please be clear in what you are showing. Use titled markup blocks to illustrate. You're basically showing, \"here's it working\". </li>\n",
    "    </ul>\n",
    "<li> <b>20%</b> - Code comments and formatting - you should have comments throughout your code explaining what you are doing. Use markup blocks to add a description. </li>\n",
    "</ul>\n",
    "\n",
    "### Tips and Hints\n",
    "\n",
    "<b>Note:</b> I will update the README file in the original repository if I need to add any notes and clarifications. That's likely, as this is obviously open-ended. In general, if you need to make reasonable assumptions, please do so. \n",
    "\n",
    "<ul>\n",
    "<li> The \"Show Images\" block below shows an example of loading an image from a URL. </li>\n",
    "<li> Check the parts of error checking other than try/except, they may be useful, depending on what you choose. </li>\n",
    "<li> You can use the CSV files in the repsoitory for testing, each should work. </li>\n",
    "<li> If something is really unclear, please ask. </li>\n",
    "</ul>"
   ]
  },
  {
   "cell_type": "markdown",
   "metadata": {},
   "source": [
    "#### Show Images\n"
   ]
  },
  {
   "cell_type": "code",
   "execution_count": 11,
   "metadata": {},
   "outputs": [
    {
     "ename": "UnidentifiedImageError",
     "evalue": "cannot identify image file <_io.BytesIO object at 0x000001BE464A06D0>",
     "output_type": "error",
     "traceback": [
      "\u001b[1;31m---------------------------------------------------------------------------\u001b[0m",
      "\u001b[1;31mUnidentifiedImageError\u001b[0m                    Traceback (most recent call last)",
      "\u001b[1;32mc:\\Users\\desla\\Documents\\Data Analytics\\DATA 3550 - Programming Labs\\Programming_Basics_ML_Asn1_Students\\direction_asn1.ipynb Cell 6\u001b[0m line \u001b[0;36m7\n\u001b[0;32m      <a href='vscode-notebook-cell:/c%3A/Users/desla/Documents/Data%20Analytics/DATA%203550%20-%20Programming%20Labs/Programming_Basics_ML_Asn1_Students/direction_asn1.ipynb#W3sZmlsZQ%3D%3D?line=2'>3</a>\u001b[0m \u001b[39mimport\u001b[39;00m \u001b[39mrequests\u001b[39;00m\n\u001b[0;32m      <a href='vscode-notebook-cell:/c%3A/Users/desla/Documents/Data%20Analytics/DATA%203550%20-%20Programming%20Labs/Programming_Basics_ML_Asn1_Students/direction_asn1.ipynb#W3sZmlsZQ%3D%3D?line=4'>5</a>\u001b[0m url \u001b[39m=\u001b[39m df[\u001b[39m\"\u001b[39m\u001b[39mimage\u001b[39m\u001b[39m\"\u001b[39m][\u001b[39m28\u001b[39m]\n\u001b[1;32m----> <a href='vscode-notebook-cell:/c%3A/Users/desla/Documents/Data%20Analytics/DATA%203550%20-%20Programming%20Labs/Programming_Basics_ML_Asn1_Students/direction_asn1.ipynb#W3sZmlsZQ%3D%3D?line=6'>7</a>\u001b[0m im \u001b[39m=\u001b[39m Image\u001b[39m.\u001b[39;49mopen(requests\u001b[39m.\u001b[39;49mget(url, stream\u001b[39m=\u001b[39;49m\u001b[39mTrue\u001b[39;49;00m)\u001b[39m.\u001b[39;49mraw)\n\u001b[0;32m      <a href='vscode-notebook-cell:/c%3A/Users/desla/Documents/Data%20Analytics/DATA%203550%20-%20Programming%20Labs/Programming_Basics_ML_Asn1_Students/direction_asn1.ipynb#W3sZmlsZQ%3D%3D?line=7'>8</a>\u001b[0m display(im)\n",
      "File \u001b[1;32m~\\AppData\\Local\\Packages\\PythonSoftwareFoundation.Python.3.11_qbz5n2kfra8p0\\LocalCache\\local-packages\\Python311\\site-packages\\PIL\\Image.py:3305\u001b[0m, in \u001b[0;36mopen\u001b[1;34m(fp, mode, formats)\u001b[0m\n\u001b[0;32m   3303\u001b[0m     warnings\u001b[39m.\u001b[39mwarn(message)\n\u001b[0;32m   3304\u001b[0m msg \u001b[39m=\u001b[39m \u001b[39m\"\u001b[39m\u001b[39mcannot identify image file \u001b[39m\u001b[39m%r\u001b[39;00m\u001b[39m\"\u001b[39m \u001b[39m%\u001b[39m (filename \u001b[39mif\u001b[39;00m filename \u001b[39melse\u001b[39;00m fp)\n\u001b[1;32m-> 3305\u001b[0m \u001b[39mraise\u001b[39;00m UnidentifiedImageError(msg)\n",
      "\u001b[1;31mUnidentifiedImageError\u001b[0m: cannot identify image file <_io.BytesIO object at 0x000001BE464A06D0>"
     ]
    }
   ],
   "source": [
    "# This code will display an image given a URL\n",
    "from PIL import Image\n",
    "import requests\n",
    "\n",
    "url = df[\"image\"][28]\n",
    "\n",
    "im = Image.open(requests.get(url, stream=True).raw)\n",
    "display(im)"
   ]
  },
  {
   "cell_type": "markdown",
   "metadata": {},
   "source": [
    "## Classes"
   ]
  },
  {
   "cell_type": "code",
   "execution_count": 44,
   "metadata": {},
   "outputs": [],
   "source": [
    "class myProduct():\n",
    "    pass"
   ]
  },
  {
   "cell_type": "code",
   "execution_count": 45,
   "metadata": {},
   "outputs": [],
   "source": [
    "class myInventory():\n",
    "    pass"
   ]
  },
  {
   "cell_type": "markdown",
   "metadata": {},
   "source": [
    "## Testing\n",
    "\n",
    "This stuff should work...\n",
    "\n",
    "You should also add more testing, that can be built into your final part of code. "
   ]
  },
  {
   "cell_type": "code",
   "execution_count": 46,
   "metadata": {},
   "outputs": [
    {
     "data": {
      "text/html": [
       "<div>\n",
       "<style scoped>\n",
       "    .dataframe tbody tr th:only-of-type {\n",
       "        vertical-align: middle;\n",
       "    }\n",
       "\n",
       "    .dataframe tbody tr th {\n",
       "        vertical-align: top;\n",
       "    }\n",
       "\n",
       "    .dataframe thead th {\n",
       "        text-align: right;\n",
       "    }\n",
       "</style>\n",
       "<table border=\"1\" class=\"dataframe\">\n",
       "  <thead>\n",
       "    <tr style=\"text-align: right;\">\n",
       "      <th></th>\n",
       "      <th>name</th>\n",
       "      <th>main_category</th>\n",
       "      <th>sub_category</th>\n",
       "      <th>image</th>\n",
       "      <th>link</th>\n",
       "      <th>ratings</th>\n",
       "      <th>no_of_ratings</th>\n",
       "      <th>discount_price</th>\n",
       "      <th>actual_price</th>\n",
       "    </tr>\n",
       "  </thead>\n",
       "  <tbody>\n",
       "    <tr>\n",
       "      <th>0</th>\n",
       "      <td>Protoner 16Kg PVC Combo Home Gym Package</td>\n",
       "      <td>sports &amp; fitness</td>\n",
       "      <td>Strength Training</td>\n",
       "      <td>https://m.media-amazon.com/images/I/71K-gcsnOY...</td>\n",
       "      <td>https://www.amazon.in/Protoner-16Kg-PVC-Combo-...</td>\n",
       "      <td>3.6</td>\n",
       "      <td>917</td>\n",
       "      <td>₹965.08</td>\n",
       "      <td>₹4,999</td>\n",
       "    </tr>\n",
       "    <tr>\n",
       "      <th>1</th>\n",
       "      <td>Unisex Hexagon Rubber Vinyl Fixed Dumbbell - P...</td>\n",
       "      <td>sports &amp; fitness</td>\n",
       "      <td>Strength Training</td>\n",
       "      <td>https://m.media-amazon.com/images/I/71pcrSXprs...</td>\n",
       "      <td>https://www.amazon.in/Generic-Vinyl-Coated-Iro...</td>\n",
       "      <td>4.4</td>\n",
       "      <td>367</td>\n",
       "      <td>₹389</td>\n",
       "      <td>₹6,450</td>\n",
       "    </tr>\n",
       "    <tr>\n",
       "      <th>2</th>\n",
       "      <td>LAFILLETTE 150 lbs Metal Hand Gripper Forearm ...</td>\n",
       "      <td>sports &amp; fitness</td>\n",
       "      <td>Strength Training</td>\n",
       "      <td>https://m.media-amazon.com/images/I/41oTg0XNbF...</td>\n",
       "      <td>https://www.amazon.in/LALA-LIFE-Gripper-Streng...</td>\n",
       "      <td>4.5</td>\n",
       "      <td>381</td>\n",
       "      <td>₹489</td>\n",
       "      <td>₹1,199</td>\n",
       "    </tr>\n",
       "    <tr>\n",
       "      <th>3</th>\n",
       "      <td>Aurion Genuine Leather Pro Weight Lifting Belt...</td>\n",
       "      <td>sports &amp; fitness</td>\n",
       "      <td>Strength Training</td>\n",
       "      <td>https://m.media-amazon.com/images/I/813g2hRYuo...</td>\n",
       "      <td>https://www.amazon.in/Genuine-Comfortable-Adju...</td>\n",
       "      <td>4.4</td>\n",
       "      <td>446</td>\n",
       "      <td>₹799</td>\n",
       "      <td>₹899</td>\n",
       "    </tr>\n",
       "    <tr>\n",
       "      <th>4</th>\n",
       "      <td>SPIRO PVC (Round/Hex) Dumbbells (1 Kg. X 2 = 2...</td>\n",
       "      <td>sports &amp; fitness</td>\n",
       "      <td>Strength Training</td>\n",
       "      <td>https://m.media-amazon.com/images/I/61VcW8otph...</td>\n",
       "      <td>https://www.amazon.in/Dumbbells-Equipment-Fitn...</td>\n",
       "      <td>3.5</td>\n",
       "      <td>52</td>\n",
       "      <td>₹82.31</td>\n",
       "      <td>₹200</td>\n",
       "    </tr>\n",
       "  </tbody>\n",
       "</table>\n",
       "</div>"
      ],
      "text/plain": [
       "                                                name     main_category  \\\n",
       "0           Protoner 16Kg PVC Combo Home Gym Package  sports & fitness   \n",
       "1  Unisex Hexagon Rubber Vinyl Fixed Dumbbell - P...  sports & fitness   \n",
       "2  LAFILLETTE 150 lbs Metal Hand Gripper Forearm ...  sports & fitness   \n",
       "3  Aurion Genuine Leather Pro Weight Lifting Belt...  sports & fitness   \n",
       "4  SPIRO PVC (Round/Hex) Dumbbells (1 Kg. X 2 = 2...  sports & fitness   \n",
       "\n",
       "        sub_category                                              image  \\\n",
       "0  Strength Training  https://m.media-amazon.com/images/I/71K-gcsnOY...   \n",
       "1  Strength Training  https://m.media-amazon.com/images/I/71pcrSXprs...   \n",
       "2  Strength Training  https://m.media-amazon.com/images/I/41oTg0XNbF...   \n",
       "3  Strength Training  https://m.media-amazon.com/images/I/813g2hRYuo...   \n",
       "4  Strength Training  https://m.media-amazon.com/images/I/61VcW8otph...   \n",
       "\n",
       "                                                link ratings no_of_ratings  \\\n",
       "0  https://www.amazon.in/Protoner-16Kg-PVC-Combo-...     3.6           917   \n",
       "1  https://www.amazon.in/Generic-Vinyl-Coated-Iro...     4.4           367   \n",
       "2  https://www.amazon.in/LALA-LIFE-Gripper-Streng...     4.5           381   \n",
       "3  https://www.amazon.in/Genuine-Comfortable-Adju...     4.4           446   \n",
       "4  https://www.amazon.in/Dumbbells-Equipment-Fitn...     3.5            52   \n",
       "\n",
       "  discount_price actual_price  \n",
       "0        ₹965.08       ₹4,999  \n",
       "1           ₹389       ₹6,450  \n",
       "2           ₹489       ₹1,199  \n",
       "3           ₹799         ₹899  \n",
       "4         ₹82.31         ₹200  "
      ]
     },
     "execution_count": 46,
     "metadata": {},
     "output_type": "execute_result"
    }
   ],
   "source": [
    "df = pd.read_csv(\"Strength Training.csv\")\n",
    "df.head()"
   ]
  },
  {
   "cell_type": "code",
   "execution_count": 47,
   "metadata": {},
   "outputs": [
    {
     "name": "stdout",
     "output_type": "stream",
     "text": [
      "<class 'pandas.core.frame.DataFrame'>\n",
      "RangeIndex: 1104 entries, 0 to 1103\n",
      "Data columns (total 9 columns):\n",
      " #   Column          Non-Null Count  Dtype \n",
      "---  ------          --------------  ----- \n",
      " 0   name            1104 non-null   object\n",
      " 1   main_category   1104 non-null   object\n",
      " 2   sub_category    1104 non-null   object\n",
      " 3   image           1104 non-null   object\n",
      " 4   link            1104 non-null   object\n",
      " 5   ratings         897 non-null    object\n",
      " 6   no_of_ratings   897 non-null    object\n",
      " 7   discount_price  1046 non-null   object\n",
      " 8   actual_price    1088 non-null   object\n",
      "dtypes: object(9)\n",
      "memory usage: 77.8+ KB\n"
     ]
    }
   ],
   "source": [
    "df.info()"
   ]
  },
  {
   "cell_type": "code",
   "execution_count": 48,
   "metadata": {},
   "outputs": [],
   "source": [
    "# Create an inventory from the supplied file. \n",
    "inv = myInventory()\n",
    "#inv.read_file(\"Strength Training.csv\")"
   ]
  },
  {
   "cell_type": "code",
   "execution_count": 49,
   "metadata": {},
   "outputs": [],
   "source": [
    "#inv.printNext()"
   ]
  },
  {
   "cell_type": "code",
   "execution_count": 50,
   "metadata": {},
   "outputs": [],
   "source": [
    "##inv.printTopRated()"
   ]
  },
  {
   "cell_type": "markdown",
   "metadata": {},
   "source": [
    "Test 2"
   ]
  },
  {
   "cell_type": "code",
   "execution_count": 51,
   "metadata": {},
   "outputs": [],
   "source": [
    "inv2 = myInventory()\n",
    "#inv2.read_file(\"Car Electronics.csv\")\n",
    "#inv2.printNext()"
   ]
  },
  {
   "cell_type": "code",
   "execution_count": 52,
   "metadata": {},
   "outputs": [],
   "source": [
    "#new = inv + inv2\n",
    "#new.printNext()"
   ]
  }
 ],
 "metadata": {
  "kernelspec": {
   "display_name": "ml_env",
   "language": "python",
   "name": "python3"
  },
  "language_info": {
   "codemirror_mode": {
    "name": "ipython",
    "version": 3
   },
   "file_extension": ".py",
   "mimetype": "text/x-python",
   "name": "python",
   "nbconvert_exporter": "python",
   "pygments_lexer": "ipython3",
   "version": "3.11.6"
  },
  "orig_nbformat": 4
 },
 "nbformat": 4,
 "nbformat_minor": 2
}
